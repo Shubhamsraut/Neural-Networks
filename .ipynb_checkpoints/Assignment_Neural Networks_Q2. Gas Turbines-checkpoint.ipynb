{
 "cells": [
  {
   "cell_type": "code",
   "execution_count": 27,
   "id": "3dcf62ca",
   "metadata": {},
   "outputs": [],
   "source": [
    "# Importing libraries\n",
    "import pandas as pd\n",
    "import numpy as np\n",
    "import matplotlib.pyplot as plt\n",
    "import seaborn as sns\n",
    "import keras\n",
    "\n",
    "from sklearn import preprocessing\n",
    "from sklearn.preprocessing import StandardScaler\n",
    "from sklearn.preprocessing import MinMaxScaler\n",
    "from keras.models import Sequential\n",
    "from keras.layers import Dense\n",
    "\n",
    "# libraries for tuning hyperparameters\n",
    "from sklearn.model_selection import GridSearchCV , KFold\n",
    "from keras.wrappers.scikit_learn import KerasRegressor\n",
    "from tensorflow.keras.optimizers import Adam\n",
    "\n",
    "# avoid errors\n",
    "import warnings\n",
    "warnings.filterwarnings('ignore')"
   ]
  },
  {
   "cell_type": "code",
   "execution_count": 3,
   "id": "a1ebd36d",
   "metadata": {},
   "outputs": [
    {
     "data": {
      "text/html": [
       "<div>\n",
       "<style scoped>\n",
       "    .dataframe tbody tr th:only-of-type {\n",
       "        vertical-align: middle;\n",
       "    }\n",
       "\n",
       "    .dataframe tbody tr th {\n",
       "        vertical-align: top;\n",
       "    }\n",
       "\n",
       "    .dataframe thead th {\n",
       "        text-align: right;\n",
       "    }\n",
       "</style>\n",
       "<table border=\"1\" class=\"dataframe\">\n",
       "  <thead>\n",
       "    <tr style=\"text-align: right;\">\n",
       "      <th></th>\n",
       "      <th>AT</th>\n",
       "      <th>AP</th>\n",
       "      <th>AH</th>\n",
       "      <th>AFDP</th>\n",
       "      <th>GTEP</th>\n",
       "      <th>TIT</th>\n",
       "      <th>TAT</th>\n",
       "      <th>TEY</th>\n",
       "      <th>CDP</th>\n",
       "      <th>CO</th>\n",
       "      <th>NOX</th>\n",
       "    </tr>\n",
       "  </thead>\n",
       "  <tbody>\n",
       "    <tr>\n",
       "      <th>0</th>\n",
       "      <td>6.8594</td>\n",
       "      <td>1007.9</td>\n",
       "      <td>96.799</td>\n",
       "      <td>3.5000</td>\n",
       "      <td>19.663</td>\n",
       "      <td>1059.2</td>\n",
       "      <td>550.00</td>\n",
       "      <td>114.70</td>\n",
       "      <td>10.605</td>\n",
       "      <td>3.1547</td>\n",
       "      <td>82.722</td>\n",
       "    </tr>\n",
       "    <tr>\n",
       "      <th>1</th>\n",
       "      <td>6.7850</td>\n",
       "      <td>1008.4</td>\n",
       "      <td>97.118</td>\n",
       "      <td>3.4998</td>\n",
       "      <td>19.728</td>\n",
       "      <td>1059.3</td>\n",
       "      <td>550.00</td>\n",
       "      <td>114.72</td>\n",
       "      <td>10.598</td>\n",
       "      <td>3.2363</td>\n",
       "      <td>82.776</td>\n",
       "    </tr>\n",
       "    <tr>\n",
       "      <th>2</th>\n",
       "      <td>6.8977</td>\n",
       "      <td>1008.8</td>\n",
       "      <td>95.939</td>\n",
       "      <td>3.4824</td>\n",
       "      <td>19.779</td>\n",
       "      <td>1059.4</td>\n",
       "      <td>549.87</td>\n",
       "      <td>114.71</td>\n",
       "      <td>10.601</td>\n",
       "      <td>3.2012</td>\n",
       "      <td>82.468</td>\n",
       "    </tr>\n",
       "    <tr>\n",
       "      <th>3</th>\n",
       "      <td>7.0569</td>\n",
       "      <td>1009.2</td>\n",
       "      <td>95.249</td>\n",
       "      <td>3.4805</td>\n",
       "      <td>19.792</td>\n",
       "      <td>1059.6</td>\n",
       "      <td>549.99</td>\n",
       "      <td>114.72</td>\n",
       "      <td>10.606</td>\n",
       "      <td>3.1923</td>\n",
       "      <td>82.670</td>\n",
       "    </tr>\n",
       "    <tr>\n",
       "      <th>4</th>\n",
       "      <td>7.3978</td>\n",
       "      <td>1009.7</td>\n",
       "      <td>95.150</td>\n",
       "      <td>3.4976</td>\n",
       "      <td>19.765</td>\n",
       "      <td>1059.7</td>\n",
       "      <td>549.98</td>\n",
       "      <td>114.72</td>\n",
       "      <td>10.612</td>\n",
       "      <td>3.2484</td>\n",
       "      <td>82.311</td>\n",
       "    </tr>\n",
       "  </tbody>\n",
       "</table>\n",
       "</div>"
      ],
      "text/plain": [
       "       AT      AP      AH    AFDP    GTEP     TIT     TAT     TEY     CDP  \\\n",
       "0  6.8594  1007.9  96.799  3.5000  19.663  1059.2  550.00  114.70  10.605   \n",
       "1  6.7850  1008.4  97.118  3.4998  19.728  1059.3  550.00  114.72  10.598   \n",
       "2  6.8977  1008.8  95.939  3.4824  19.779  1059.4  549.87  114.71  10.601   \n",
       "3  7.0569  1009.2  95.249  3.4805  19.792  1059.6  549.99  114.72  10.606   \n",
       "4  7.3978  1009.7  95.150  3.4976  19.765  1059.7  549.98  114.72  10.612   \n",
       "\n",
       "       CO     NOX  \n",
       "0  3.1547  82.722  \n",
       "1  3.2363  82.776  \n",
       "2  3.2012  82.468  \n",
       "3  3.1923  82.670  \n",
       "4  3.2484  82.311  "
      ]
     },
     "execution_count": 3,
     "metadata": {},
     "output_type": "execute_result"
    }
   ],
   "source": [
    "df = pd.read_csv('gas_turbines.csv')\n",
    "df.head()"
   ]
  },
  {
   "cell_type": "markdown",
   "id": "96fb834a",
   "metadata": {},
   "source": [
    "### 1.EDA"
   ]
  },
  {
   "cell_type": "code",
   "execution_count": 5,
   "id": "ac417e3d",
   "metadata": {},
   "outputs": [
    {
     "data": {
      "text/plain": [
       "(15039, 11)"
      ]
     },
     "execution_count": 5,
     "metadata": {},
     "output_type": "execute_result"
    }
   ],
   "source": [
    "df.shape"
   ]
  },
  {
   "cell_type": "code",
   "execution_count": 6,
   "id": "7f4c8a24",
   "metadata": {},
   "outputs": [
    {
     "data": {
      "text/plain": [
       "AT      0\n",
       "AP      0\n",
       "AH      0\n",
       "AFDP    0\n",
       "GTEP    0\n",
       "TIT     0\n",
       "TAT     0\n",
       "TEY     0\n",
       "CDP     0\n",
       "CO      0\n",
       "NOX     0\n",
       "dtype: int64"
      ]
     },
     "execution_count": 6,
     "metadata": {},
     "output_type": "execute_result"
    }
   ],
   "source": [
    "df.isnull().sum()"
   ]
  },
  {
   "cell_type": "code",
   "execution_count": 7,
   "id": "95049302",
   "metadata": {},
   "outputs": [
    {
     "name": "stdout",
     "output_type": "stream",
     "text": [
      "<class 'pandas.core.frame.DataFrame'>\n",
      "RangeIndex: 15039 entries, 0 to 15038\n",
      "Data columns (total 11 columns):\n",
      " #   Column  Non-Null Count  Dtype  \n",
      "---  ------  --------------  -----  \n",
      " 0   AT      15039 non-null  float64\n",
      " 1   AP      15039 non-null  float64\n",
      " 2   AH      15039 non-null  float64\n",
      " 3   AFDP    15039 non-null  float64\n",
      " 4   GTEP    15039 non-null  float64\n",
      " 5   TIT     15039 non-null  float64\n",
      " 6   TAT     15039 non-null  float64\n",
      " 7   TEY     15039 non-null  float64\n",
      " 8   CDP     15039 non-null  float64\n",
      " 9   CO      15039 non-null  float64\n",
      " 10  NOX     15039 non-null  float64\n",
      "dtypes: float64(11)\n",
      "memory usage: 1.3 MB\n"
     ]
    }
   ],
   "source": [
    "df.info()"
   ]
  },
  {
   "cell_type": "code",
   "execution_count": 8,
   "id": "2e49f0e0",
   "metadata": {},
   "outputs": [
    {
     "data": {
      "text/html": [
       "<div>\n",
       "<style scoped>\n",
       "    .dataframe tbody tr th:only-of-type {\n",
       "        vertical-align: middle;\n",
       "    }\n",
       "\n",
       "    .dataframe tbody tr th {\n",
       "        vertical-align: top;\n",
       "    }\n",
       "\n",
       "    .dataframe thead th {\n",
       "        text-align: right;\n",
       "    }\n",
       "</style>\n",
       "<table border=\"1\" class=\"dataframe\">\n",
       "  <thead>\n",
       "    <tr style=\"text-align: right;\">\n",
       "      <th></th>\n",
       "      <th>AT</th>\n",
       "      <th>AP</th>\n",
       "      <th>AH</th>\n",
       "      <th>AFDP</th>\n",
       "      <th>GTEP</th>\n",
       "      <th>TIT</th>\n",
       "      <th>TAT</th>\n",
       "      <th>TEY</th>\n",
       "      <th>CDP</th>\n",
       "      <th>CO</th>\n",
       "      <th>NOX</th>\n",
       "    </tr>\n",
       "  </thead>\n",
       "  <tbody>\n",
       "  </tbody>\n",
       "</table>\n",
       "</div>"
      ],
      "text/plain": [
       "Empty DataFrame\n",
       "Columns: [AT, AP, AH, AFDP, GTEP, TIT, TAT, TEY, CDP, CO, NOX]\n",
       "Index: []"
      ]
     },
     "execution_count": 8,
     "metadata": {},
     "output_type": "execute_result"
    }
   ],
   "source": [
    "df[df.duplicated()]"
   ]
  },
  {
   "cell_type": "code",
   "execution_count": 9,
   "id": "eac6f27d",
   "metadata": {},
   "outputs": [
    {
     "data": {
      "image/png": "[encoded data removed]",
      "text/plain": [
       "<Figure size 1080x720 with 12 Axes>"
      ]
     },
     "metadata": {
      "needs_background": "light"
     },
     "output_type": "display_data"
    }
   ],
   "source": [
    "# Check the distribution\n",
    "\n",
    "fig, ax = plt.subplots(4, 3, figsize=(15,10))\n",
    "sns.distplot(data.AT, ax=ax[0,0])\n",
    "sns.distplot(data.AP, ax = ax[0,1])\n",
    "sns.distplot(data.AH, ax = ax[0,2])\n",
    "sns.distplot(data.AFDP, ax = ax[1,0])\n",
    "sns.distplot(data.GTEP, ax = ax[1,1])\n",
    "sns.distplot(data.TIT, ax = ax[1,2])\n",
    "sns.distplot(data.TAT, ax = ax[2,0])\n",
    "sns.distplot(data.TEY, ax = ax[2,1])\n",
    "sns.distplot(data.CDP, ax = ax[2,2])\n",
    "sns.distplot(data.CO, ax = ax[3,0])\n",
    "sns.distplot(data.NOX, ax = ax[3,1])\n",
    "\n",
    "plt.tight_layout()\n",
    "plt.show()"
   ]
  },
  {
   "cell_type": "code",
   "execution_count": 10,
   "id": "5a16e6be",
   "metadata": {},
   "outputs": [
    {
     "data": {
      "image/png": "[encoded data removed]",
      "text/plain": [
       "<Figure size 1080x720 with 12 Axes>"
      ]
     },
     "metadata": {
      "needs_background": "light"
     },
     "output_type": "display_data"
    }
   ],
   "source": [
    "# Check the outliers\n",
    "\n",
    "fig, ax = plt.subplots(4,3, figsize = (15,10))\n",
    "\n",
    "sns.boxplot(data.AT, ax = ax[0,0])\n",
    "sns.boxplot(data.AP, ax = ax[0,1])\n",
    "sns.boxplot(data.AH, ax = ax[0,2])\n",
    "sns.boxplot(data.AFDP, ax = ax[1,0])\n",
    "sns.boxplot(data.GTEP, ax = ax[1,1])\n",
    "sns.boxplot(data.TIT, ax = ax[1,2])\n",
    "sns.boxplot(data.TAT, ax = ax[2,0])\n",
    "sns.boxplot(data.TEY, ax = ax[2,1])\n",
    "sns.boxplot(data.CDP, ax = ax[2,2])\n",
    "sns.boxplot(data.CO, ax = ax[3,0])\n",
    "sns.boxplot(data.NOX, ax = ax[3,1])\n",
    "\n",
    "plt.tight_layout()\n",
    "plt.show()"
   ]
  },
  {
   "cell_type": "code",
   "execution_count": 11,
   "id": "c4872b9a",
   "metadata": {},
   "outputs": [
    {
     "data": {
      "text/html": [
       "<div>\n",
       "<style scoped>\n",
       "    .dataframe tbody tr th:only-of-type {\n",
       "        vertical-align: middle;\n",
       "    }\n",
       "\n",
       "    .dataframe tbody tr th {\n",
       "        vertical-align: top;\n",
       "    }\n",
       "\n",
       "    .dataframe thead th {\n",
       "        text-align: right;\n",
       "    }\n",
       "</style>\n",
       "<table border=\"1\" class=\"dataframe\">\n",
       "  <thead>\n",
       "    <tr style=\"text-align: right;\">\n",
       "      <th></th>\n",
       "      <th>AT</th>\n",
       "      <th>AP</th>\n",
       "      <th>AH</th>\n",
       "      <th>AFDP</th>\n",
       "      <th>GTEP</th>\n",
       "      <th>TIT</th>\n",
       "      <th>TAT</th>\n",
       "      <th>TEY</th>\n",
       "      <th>CDP</th>\n",
       "      <th>CO</th>\n",
       "      <th>NOX</th>\n",
       "    </tr>\n",
       "  </thead>\n",
       "  <tbody>\n",
       "    <tr>\n",
       "      <th>0</th>\n",
       "      <td>0.184182</td>\n",
       "      <td>0.456050</td>\n",
       "      <td>0.951314</td>\n",
       "      <td>0.255758</td>\n",
       "      <td>0.091426</td>\n",
       "      <td>0.584</td>\n",
       "      <td>0.984015</td>\n",
       "      <td>0.195191</td>\n",
       "      <td>0.135340</td>\n",
       "      <td>0.071522</td>\n",
       "      <td>0.596548</td>\n",
       "    </tr>\n",
       "    <tr>\n",
       "      <th>1</th>\n",
       "      <td>0.182020</td>\n",
       "      <td>0.466391</td>\n",
       "      <td>0.955881</td>\n",
       "      <td>0.255721</td>\n",
       "      <td>0.094755</td>\n",
       "      <td>0.585</td>\n",
       "      <td>0.984015</td>\n",
       "      <td>0.195459</td>\n",
       "      <td>0.133988</td>\n",
       "      <td>0.073372</td>\n",
       "      <td>0.597134</td>\n",
       "    </tr>\n",
       "    <tr>\n",
       "      <th>2</th>\n",
       "      <td>0.185295</td>\n",
       "      <td>0.474664</td>\n",
       "      <td>0.939003</td>\n",
       "      <td>0.252571</td>\n",
       "      <td>0.097367</td>\n",
       "      <td>0.586</td>\n",
       "      <td>0.980608</td>\n",
       "      <td>0.195325</td>\n",
       "      <td>0.134567</td>\n",
       "      <td>0.072576</td>\n",
       "      <td>0.593791</td>\n",
       "    </tr>\n",
       "    <tr>\n",
       "      <th>3</th>\n",
       "      <td>0.189922</td>\n",
       "      <td>0.482937</td>\n",
       "      <td>0.929126</td>\n",
       "      <td>0.252227</td>\n",
       "      <td>0.098033</td>\n",
       "      <td>0.588</td>\n",
       "      <td>0.983753</td>\n",
       "      <td>0.195459</td>\n",
       "      <td>0.135533</td>\n",
       "      <td>0.072375</td>\n",
       "      <td>0.595984</td>\n",
       "    </tr>\n",
       "    <tr>\n",
       "      <th>4</th>\n",
       "      <td>0.199830</td>\n",
       "      <td>0.493278</td>\n",
       "      <td>0.927708</td>\n",
       "      <td>0.255323</td>\n",
       "      <td>0.096650</td>\n",
       "      <td>0.589</td>\n",
       "      <td>0.983491</td>\n",
       "      <td>0.195459</td>\n",
       "      <td>0.136692</td>\n",
       "      <td>0.073647</td>\n",
       "      <td>0.592087</td>\n",
       "    </tr>\n",
       "    <tr>\n",
       "      <th>...</th>\n",
       "      <td>...</td>\n",
       "      <td>...</td>\n",
       "      <td>...</td>\n",
       "      <td>...</td>\n",
       "      <td>...</td>\n",
       "      <td>...</td>\n",
       "      <td>...</td>\n",
       "      <td>...</td>\n",
       "      <td>...</td>\n",
       "      <td>...</td>\n",
       "      <td>...</td>\n",
       "    </tr>\n",
       "    <tr>\n",
       "      <th>15034</th>\n",
       "      <td>0.247272</td>\n",
       "      <td>0.408480</td>\n",
       "      <td>0.975092</td>\n",
       "      <td>0.263380</td>\n",
       "      <td>0.065868</td>\n",
       "      <td>0.489</td>\n",
       "      <td>0.884696</td>\n",
       "      <td>0.153681</td>\n",
       "      <td>0.095739</td>\n",
       "      <td>0.102448</td>\n",
       "      <td>0.562214</td>\n",
       "    </tr>\n",
       "    <tr>\n",
       "      <th>15035</th>\n",
       "      <td>0.214075</td>\n",
       "      <td>0.414685</td>\n",
       "      <td>0.984153</td>\n",
       "      <td>0.256826</td>\n",
       "      <td>0.078672</td>\n",
       "      <td>0.455</td>\n",
       "      <td>0.806342</td>\n",
       "      <td>0.155965</td>\n",
       "      <td>0.102113</td>\n",
       "      <td>0.109894</td>\n",
       "      <td>0.566100</td>\n",
       "    </tr>\n",
       "    <tr>\n",
       "      <th>15036</th>\n",
       "      <td>0.195962</td>\n",
       "      <td>0.422958</td>\n",
       "      <td>0.989922</td>\n",
       "      <td>0.251593</td>\n",
       "      <td>0.084614</td>\n",
       "      <td>0.369</td>\n",
       "      <td>0.651730</td>\n",
       "      <td>0.134605</td>\n",
       "      <td>0.111772</td>\n",
       "      <td>0.180552</td>\n",
       "      <td>0.685449</td>\n",
       "    </tr>\n",
       "    <tr>\n",
       "      <th>15037</th>\n",
       "      <td>0.188443</td>\n",
       "      <td>0.433299</td>\n",
       "      <td>0.982936</td>\n",
       "      <td>0.246451</td>\n",
       "      <td>0.076777</td>\n",
       "      <td>0.424</td>\n",
       "      <td>0.754455</td>\n",
       "      <td>0.141994</td>\n",
       "      <td>0.121431</td>\n",
       "      <td>0.141693</td>\n",
       "      <td>0.710578</td>\n",
       "    </tr>\n",
       "    <tr>\n",
       "      <th>15038</th>\n",
       "      <td>0.186173</td>\n",
       "      <td>0.441572</td>\n",
       "      <td>0.961821</td>\n",
       "      <td>0.242631</td>\n",
       "      <td>0.073141</td>\n",
       "      <td>0.491</td>\n",
       "      <td>0.875262</td>\n",
       "      <td>0.153278</td>\n",
       "      <td>0.131090</td>\n",
       "      <td>0.112946</td>\n",
       "      <td>0.702665</td>\n",
       "    </tr>\n",
       "  </tbody>\n",
       "</table>\n",
       "<p>15039 rows × 11 columns</p>\n",
       "</div>"
      ],
      "text/plain": [
       "             AT        AP        AH      AFDP      GTEP    TIT       TAT  \\\n",
       "0      0.184182  0.456050  0.951314  0.255758  0.091426  0.584  0.984015   \n",
       "1      0.182020  0.466391  0.955881  0.255721  0.094755  0.585  0.984015   \n",
       "2      0.185295  0.474664  0.939003  0.252571  0.097367  0.586  0.980608   \n",
       "3      0.189922  0.482937  0.929126  0.252227  0.098033  0.588  0.983753   \n",
       "4      0.199830  0.493278  0.927708  0.255323  0.096650  0.589  0.983491   \n",
       "...         ...       ...       ...       ...       ...    ...       ...   \n",
       "15034  0.247272  0.408480  0.975092  0.263380  0.065868  0.489  0.884696   \n",
       "15035  0.214075  0.414685  0.984153  0.256826  0.078672  0.455  0.806342   \n",
       "15036  0.195962  0.422958  0.989922  0.251593  0.084614  0.369  0.651730   \n",
       "15037  0.188443  0.433299  0.982936  0.246451  0.076777  0.424  0.754455   \n",
       "15038  0.186173  0.441572  0.961821  0.242631  0.073141  0.491  0.875262   \n",
       "\n",
       "            TEY       CDP        CO       NOX  \n",
       "0      0.195191  0.135340  0.071522  0.596548  \n",
       "1      0.195459  0.133988  0.073372  0.597134  \n",
       "2      0.195325  0.134567  0.072576  0.593791  \n",
       "3      0.195459  0.135533  0.072375  0.595984  \n",
       "4      0.195459  0.136692  0.073647  0.592087  \n",
       "...         ...       ...       ...       ...  \n",
       "15034  0.153681  0.095739  0.102448  0.562214  \n",
       "15035  0.155965  0.102113  0.109894  0.566100  \n",
       "15036  0.134605  0.111772  0.180552  0.685449  \n",
       "15037  0.141994  0.121431  0.141693  0.710578  \n",
       "15038  0.153278  0.131090  0.112946  0.702665  \n",
       "\n",
       "[15039 rows x 11 columns]"
      ]
     },
     "execution_count": 11,
     "metadata": {},
     "output_type": "execute_result"
    }
   ],
   "source": [
    "scale=MinMaxScaler()\n",
    "df1=pd.DataFrame(scale.fit_transform(data),columns=['AT','AP','AH','AFDP','GTEP','TIT','TAT','TEY','CDP','CO','NOX'])\n",
    "df1"
   ]
  },
  {
   "cell_type": "markdown",
   "id": "f4dcf262",
   "metadata": {},
   "source": [
    "### 2.Extracting independent and dependent variables"
   ]
  },
  {
   "cell_type": "code",
   "execution_count": 12,
   "id": "d899b81e",
   "metadata": {},
   "outputs": [],
   "source": [
    "\n",
    "X = df1.drop(axis =0, columns ='TEY').values\n",
    "Y = df1['TEY'].values"
   ]
  },
  {
   "cell_type": "code",
   "execution_count": 13,
   "id": "76dd49d4",
   "metadata": {},
   "outputs": [
    {
     "data": {
      "text/plain": [
       "array([[0.18418215, 0.45604964, 0.95131413, ..., 0.1353398 , 0.07152212,\n",
       "        0.59654817],\n",
       "       [0.18201978, 0.4663909 , 0.95588067, ..., 0.13398756, 0.07337235,\n",
       "        0.59713433],\n",
       "       [0.18529531, 0.47466391, 0.93900309, ..., 0.13456709, 0.07257648,\n",
       "        0.59379104],\n",
       "       ...,\n",
       "       [0.19596183, 0.4229576 , 0.98992213, ..., 0.11177221, 0.18055195,\n",
       "        0.68544912],\n",
       "       [0.18844295, 0.43329886, 0.98293633, ..., 0.12143106, 0.14169257,\n",
       "        0.71057802],\n",
       "       [0.18617304, 0.44157187, 0.96182146, ..., 0.1310899 , 0.11294597,\n",
       "        0.70266486]])"
      ]
     },
     "execution_count": 13,
     "metadata": {},
     "output_type": "execute_result"
    }
   ],
   "source": [
    "X"
   ]
  },
  {
   "cell_type": "code",
   "execution_count": 14,
   "id": "d2fb4a50",
   "metadata": {},
   "outputs": [
    {
     "data": {
      "text/plain": [
       "array([0.19519076, 0.19545943, 0.19532509, ..., 0.13460505, 0.14199355,\n",
       "       0.15327781])"
      ]
     },
     "execution_count": 14,
     "metadata": {},
     "output_type": "execute_result"
    }
   ],
   "source": [
    "Y"
   ]
  },
  {
   "cell_type": "code",
   "execution_count": 15,
   "id": "0adb4306",
   "metadata": {},
   "outputs": [
    {
     "data": {
      "text/plain": [
       "<keras.metrics.metrics.MeanSquaredError at 0x2b4310bdf40>"
      ]
     },
     "execution_count": 15,
     "metadata": {},
     "output_type": "execute_result"
    }
   ],
   "source": [
    "keras.metrics.MeanSquaredError(name=\"mean_squared_error\", dtype=None)\n",
    "keras.metrics.MeanSquaredError()"
   ]
  },
  {
   "cell_type": "code",
   "execution_count": 16,
   "id": "148f8252",
   "metadata": {},
   "outputs": [],
   "source": [
    "# Setting certain fix value of random seed for reproductibility\n",
    "seed = 7\n",
    "np.random.seed(seed)"
   ]
  },
  {
   "cell_type": "markdown",
   "id": "2424b67d",
   "metadata": {},
   "source": [
    "### 3. Model building"
   ]
  },
  {
   "cell_type": "markdown",
   "id": "904d74b7",
   "metadata": {},
   "source": [
    "#### 3.1 Create the model"
   ]
  },
  {
   "cell_type": "code",
   "execution_count": 19,
   "id": "3ece556e",
   "metadata": {},
   "outputs": [],
   "source": [
    "\n",
    "model = Sequential()\n",
    "model.add(Dense(12, input_dim =10, kernel_initializer = 'uniform', activation ='relu'))\n",
    "model.add(Dense(8, kernel_initializer ='uniform', activation ='relu'))\n",
    "model.add(Dense(1, kernel_initializer ='uniform', activation ='relu'))  # This last layer should be changed to 'relu' as sigmoid is used for classification problems.\n"
   ]
  },
  {
   "cell_type": "markdown",
   "id": "84b529af",
   "metadata": {},
   "source": [
    "#### 3.2 Compile the model"
   ]
  },
  {
   "cell_type": "code",
   "execution_count": 20,
   "id": "479677fa",
   "metadata": {},
   "outputs": [],
   "source": [
    "model.compile(loss = 'mse', optimizer='adam', metrics=[keras.metrics.MeanSquaredError()])  # # metrics= ['accuracy'] changed to [keras.metrics.MeanSquaredError()] as the Y variable is continuous datatype."
   ]
  },
  {
   "cell_type": "markdown",
   "id": "8c2ac1c7",
   "metadata": {},
   "source": [
    "#### 3.3 Fit the model"
   ]
  },
  {
   "cell_type": "code",
   "execution_count": 21,
   "id": "3ab92faf",
   "metadata": {},
   "outputs": [
    {
     "name": "stdout",
     "output_type": "stream",
     "text": [
      "Epoch 1/100\n",
      "1008/1008 [==============================] - 7s 5ms/step - loss: 0.0314 - mean_squared_error: 0.0314 - val_loss: 2.4163e-04 - val_mean_squared_error: 2.4163e-04\n",
      "Epoch 2/100\n",
      "1008/1008 [==============================] - 5s 5ms/step - loss: 2.4557e-04 - mean_squared_error: 2.4557e-04 - val_loss: 1.6783e-04 - val_mean_squared_error: 1.6783e-04\n",
      "Epoch 3/100\n",
      "1008/1008 [==============================] - 4s 4ms/step - loss: 1.6342e-04 - mean_squared_error: 1.6342e-04 - val_loss: 1.5090e-04 - val_mean_squared_error: 1.5090e-04\n",
      "Epoch 4/100\n",
      "1008/1008 [==============================] - 4s 4ms/step - loss: 1.5012e-04 - mean_squared_error: 1.5012e-04 - val_loss: 1.3527e-04 - val_mean_squared_error: 1.3527e-04\n",
      "Epoch 5/100\n",
      "1008/1008 [==============================] - 5s 5ms/step - loss: 1.4029e-04 - mean_squared_error: 1.4029e-04 - val_loss: 1.3261e-04 - val_mean_squared_error: 1.3261e-04\n",
      "Epoch 6/100\n",
      "1008/1008 [==============================] - 5s 5ms/step - loss: 1.3712e-04 - mean_squared_error: 1.3712e-04 - val_loss: 1.3069e-04 - val_mean_squared_error: 1.3069e-04\n",
      "Epoch 7/100\n",
      "1008/1008 [==============================] - 5s 5ms/step - loss: 1.3332e-04 - mean_squared_error: 1.3332e-04 - val_loss: 1.2131e-04 - val_mean_squared_error: 1.2131e-04\n",
      "Epoch 8/100\n",
      "1008/1008 [==============================] - 5s 5ms/step - loss: 1.3150e-04 - mean_squared_error: 1.3150e-04 - val_loss: 1.1578e-04 - val_mean_squared_error: 1.1578e-04\n",
      "Epoch 9/100\n",
      "1008/1008 [==============================] - 6s 6ms/step - loss: 1.2941e-04 - mean_squared_error: 1.2941e-04 - val_loss: 1.2159e-04 - val_mean_squared_error: 1.2159e-04\n",
      "Epoch 10/100\n",
      "1008/1008 [==============================] - 4s 4ms/step - loss: 1.2482e-04 - mean_squared_error: 1.2482e-04 - val_loss: 1.1291e-04 - val_mean_squared_error: 1.1291e-04\n",
      "Epoch 11/100\n",
      "1008/1008 [==============================] - 4s 4ms/step - loss: 1.2633e-04 - mean_squared_error: 1.2633e-04 - val_loss: 1.1882e-04 - val_mean_squared_error: 1.1882e-04\n",
      "Epoch 12/100\n",
      "1008/1008 [==============================] - 5s 5ms/step - loss: 1.2319e-04 - mean_squared_error: 1.2319e-04 - val_loss: 1.1054e-04 - val_mean_squared_error: 1.1054e-04\n",
      "Epoch 13/100\n",
      "1008/1008 [==============================] - 5s 5ms/step - loss: 1.2539e-04 - mean_squared_error: 1.2539e-04 - val_loss: 1.3907e-04 - val_mean_squared_error: 1.3907e-04\n",
      "Epoch 14/100\n",
      "1008/1008 [==============================] - 5s 5ms/step - loss: 1.2202e-04 - mean_squared_error: 1.2202e-04 - val_loss: 1.2479e-04 - val_mean_squared_error: 1.2479e-04\n",
      "Epoch 15/100\n",
      "1008/1008 [==============================] - 6s 6ms/step - loss: 1.1993e-04 - mean_squared_error: 1.1993e-04 - val_loss: 1.0948e-04 - val_mean_squared_error: 1.0948e-04\n",
      "Epoch 16/100\n",
      "1008/1008 [==============================] - 4s 4ms/step - loss: 1.2261e-04 - mean_squared_error: 1.2261e-04 - val_loss: 1.6984e-04 - val_mean_squared_error: 1.6984e-04\n",
      "Epoch 17/100\n",
      "1008/1008 [==============================] - 4s 4ms/step - loss: 1.2244e-04 - mean_squared_error: 1.2244e-04 - val_loss: 1.2100e-04 - val_mean_squared_error: 1.2100e-04\n",
      "Epoch 18/100\n",
      "1008/1008 [==============================] - 5s 5ms/step - loss: 1.2193e-04 - mean_squared_error: 1.2193e-04 - val_loss: 1.2895e-04 - val_mean_squared_error: 1.2895e-04\n",
      "Epoch 19/100\n",
      "1008/1008 [==============================] - 4s 4ms/step - loss: 1.1981e-04 - mean_squared_error: 1.1981e-04 - val_loss: 1.2552e-04 - val_mean_squared_error: 1.2552e-04\n",
      "Epoch 20/100\n",
      "1008/1008 [==============================] - 4s 4ms/step - loss: 1.2429e-04 - mean_squared_error: 1.2429e-04 - val_loss: 1.1513e-04 - val_mean_squared_error: 1.1513e-04\n",
      "Epoch 21/100\n",
      "1008/1008 [==============================] - 6s 6ms/step - loss: 1.2174e-04 - mean_squared_error: 1.2174e-04 - val_loss: 1.1049e-04 - val_mean_squared_error: 1.1049e-04\n",
      "Epoch 22/100\n",
      "1008/1008 [==============================] - 4s 4ms/step - loss: 1.2044e-04 - mean_squared_error: 1.2044e-04 - val_loss: 1.5024e-04 - val_mean_squared_error: 1.5024e-04\n",
      "Epoch 23/100\n",
      "1008/1008 [==============================] - 5s 5ms/step - loss: 1.1931e-04 - mean_squared_error: 1.1931e-04 - val_loss: 1.1328e-04 - val_mean_squared_error: 1.1328e-04\n",
      "Epoch 24/100\n",
      "1008/1008 [==============================] - 5s 5ms/step - loss: 1.1961e-04 - mean_squared_error: 1.1961e-04 - val_loss: 1.8265e-04 - val_mean_squared_error: 1.8265e-04\n",
      "Epoch 25/100\n",
      "1008/1008 [==============================] - 5s 5ms/step - loss: 1.1964e-04 - mean_squared_error: 1.1964e-04 - val_loss: 1.3807e-04 - val_mean_squared_error: 1.3807e-04\n",
      "Epoch 26/100\n",
      "1008/1008 [==============================] - 4s 4ms/step - loss: 1.2254e-04 - mean_squared_error: 1.2254e-04 - val_loss: 1.2270e-04 - val_mean_squared_error: 1.2270e-04\n",
      "Epoch 27/100\n",
      "1008/1008 [==============================] - 4s 4ms/step - loss: 1.1725e-04 - mean_squared_error: 1.1725e-04 - val_loss: 1.1745e-04 - val_mean_squared_error: 1.1745e-04\n",
      "Epoch 28/100\n",
      "1008/1008 [==============================] - 4s 4ms/step - loss: 1.1877e-04 - mean_squared_error: 1.1877e-04 - val_loss: 1.2659e-04 - val_mean_squared_error: 1.2659e-04\n",
      "Epoch 29/100\n",
      "1008/1008 [==============================] - 5s 4ms/step - loss: 1.1896e-04 - mean_squared_error: 1.1896e-04 - val_loss: 1.0717e-04 - val_mean_squared_error: 1.0717e-04\n",
      "Epoch 30/100\n",
      "1008/1008 [==============================] - 5s 5ms/step - loss: 1.1745e-04 - mean_squared_error: 1.1745e-04 - val_loss: 1.1968e-04 - val_mean_squared_error: 1.1968e-04\n",
      "Epoch 31/100\n",
      "1008/1008 [==============================] - 4s 4ms/step - loss: 1.1859e-04 - mean_squared_error: 1.1859e-04 - val_loss: 1.3060e-04 - val_mean_squared_error: 1.3060e-04\n",
      "Epoch 32/100\n",
      "1008/1008 [==============================] - 5s 5ms/step - loss: 1.2287e-04 - mean_squared_error: 1.2287e-04 - val_loss: 1.4051e-04 - val_mean_squared_error: 1.4051e-04\n",
      "Epoch 33/100\n",
      "1008/1008 [==============================] - 4s 4ms/step - loss: 1.1668e-04 - mean_squared_error: 1.1668e-04 - val_loss: 1.0355e-04 - val_mean_squared_error: 1.0355e-04\n",
      "Epoch 34/100\n",
      "1008/1008 [==============================] - 4s 4ms/step - loss: 1.2048e-04 - mean_squared_error: 1.2048e-04 - val_loss: 1.3577e-04 - val_mean_squared_error: 1.3577e-04\n",
      "Epoch 35/100\n",
      "1008/1008 [==============================] - 5s 5ms/step - loss: 1.1464e-04 - mean_squared_error: 1.1464e-04 - val_loss: 1.3712e-04 - val_mean_squared_error: 1.3712e-04\n",
      "Epoch 36/100\n",
      "1008/1008 [==============================] - 6s 6ms/step - loss: 1.1992e-04 - mean_squared_error: 1.1992e-04 - val_loss: 1.3877e-04 - val_mean_squared_error: 1.3877e-04\n",
      "Epoch 37/100\n",
      "1008/1008 [==============================] - 5s 5ms/step - loss: 1.1627e-04 - mean_squared_error: 1.1627e-04 - val_loss: 1.0808e-04 - val_mean_squared_error: 1.0808e-04\n",
      "Epoch 38/100\n",
      "1008/1008 [==============================] - 5s 5ms/step - loss: 1.1699e-04 - mean_squared_error: 1.1699e-04 - val_loss: 1.2872e-04 - val_mean_squared_error: 1.2872e-04\n",
      "Epoch 39/100\n",
      "1008/1008 [==============================] - 4s 4ms/step - loss: 1.1723e-04 - mean_squared_error: 1.1723e-04 - val_loss: 1.5013e-04 - val_mean_squared_error: 1.5013e-04\n",
      "Epoch 40/100\n",
      "1008/1008 [==============================] - 4s 4ms/step - loss: 1.1462e-04 - mean_squared_error: 1.1462e-04 - val_loss: 1.3008e-04 - val_mean_squared_error: 1.3008e-04\n",
      "Epoch 41/100\n",
      "1008/1008 [==============================] - 4s 4ms/step - loss: 1.1457e-04 - mean_squared_error: 1.1457e-04 - val_loss: 1.0661e-04 - val_mean_squared_error: 1.0661e-04\n",
      "Epoch 42/100\n",
      "1008/1008 [==============================] - 6s 6ms/step - loss: 1.1512e-04 - mean_squared_error: 1.1512e-04 - val_loss: 1.9505e-04 - val_mean_squared_error: 1.9505e-04\n",
      "Epoch 43/100\n",
      "1008/1008 [==============================] - 6s 6ms/step - loss: 1.1769e-04 - mean_squared_error: 1.1769e-04 - val_loss: 1.0143e-04 - val_mean_squared_error: 1.0143e-04\n",
      "Epoch 44/100\n",
      "1008/1008 [==============================] - 4s 4ms/step - loss: 1.1314e-04 - mean_squared_error: 1.1314e-04 - val_loss: 1.0876e-04 - val_mean_squared_error: 1.0876e-04\n",
      "Epoch 45/100\n",
      "1008/1008 [==============================] - 4s 4ms/step - loss: 1.1569e-04 - mean_squared_error: 1.1569e-04 - val_loss: 1.0493e-04 - val_mean_squared_error: 1.0493e-04\n",
      "Epoch 46/100\n"
     ]
    },
    {
     "name": "stdout",
     "output_type": "stream",
     "text": [
      "1008/1008 [==============================] - 4s 4ms/step - loss: 1.1544e-04 - mean_squared_error: 1.1544e-04 - val_loss: 1.3080e-04 - val_mean_squared_error: 1.3080e-04\n",
      "Epoch 47/100\n",
      "1008/1008 [==============================] - 4s 4ms/step - loss: 1.1877e-04 - mean_squared_error: 1.1877e-04 - val_loss: 1.0705e-04 - val_mean_squared_error: 1.0705e-04\n",
      "Epoch 48/100\n",
      "1008/1008 [==============================] - 5s 5ms/step - loss: 1.1385e-04 - mean_squared_error: 1.1385e-04 - val_loss: 1.5089e-04 - val_mean_squared_error: 1.5089e-04\n",
      "Epoch 49/100\n",
      "1008/1008 [==============================] - 5s 5ms/step - loss: 1.1611e-04 - mean_squared_error: 1.1611e-04 - val_loss: 9.9120e-05 - val_mean_squared_error: 9.9120e-05\n",
      "Epoch 50/100\n",
      "1008/1008 [==============================] - 5s 5ms/step - loss: 1.1224e-04 - mean_squared_error: 1.1224e-04 - val_loss: 1.0103e-04 - val_mean_squared_error: 1.0103e-04\n",
      "Epoch 51/100\n",
      "1008/1008 [==============================] - 4s 4ms/step - loss: 1.1406e-04 - mean_squared_error: 1.1406e-04 - val_loss: 1.0194e-04 - val_mean_squared_error: 1.0194e-04\n",
      "Epoch 52/100\n",
      "1008/1008 [==============================] - 4s 4ms/step - loss: 1.1373e-04 - mean_squared_error: 1.1373e-04 - val_loss: 1.4337e-04 - val_mean_squared_error: 1.4337e-04\n",
      "Epoch 53/100\n",
      "1008/1008 [==============================] - 4s 4ms/step - loss: 1.1542e-04 - mean_squared_error: 1.1542e-04 - val_loss: 1.0153e-04 - val_mean_squared_error: 1.0153e-04\n",
      "Epoch 54/100\n",
      "1008/1008 [==============================] - 4s 4ms/step - loss: 1.1217e-04 - mean_squared_error: 1.1217e-04 - val_loss: 9.9181e-05 - val_mean_squared_error: 9.9181e-05\n",
      "Epoch 55/100\n",
      "1008/1008 [==============================] - 4s 4ms/step - loss: 1.1340e-04 - mean_squared_error: 1.1340e-04 - val_loss: 1.0046e-04 - val_mean_squared_error: 1.0046e-04\n",
      "Epoch 56/100\n",
      "1008/1008 [==============================] - 4s 4ms/step - loss: 1.1093e-04 - mean_squared_error: 1.1093e-04 - val_loss: 1.5301e-04 - val_mean_squared_error: 1.5301e-04\n",
      "Epoch 57/100\n",
      "1008/1008 [==============================] - 5s 5ms/step - loss: 1.1428e-04 - mean_squared_error: 1.1428e-04 - val_loss: 1.0873e-04 - val_mean_squared_error: 1.0873e-04\n",
      "Epoch 58/100\n",
      "1008/1008 [==============================] - 5s 5ms/step - loss: 1.1486e-04 - mean_squared_error: 1.1486e-04 - val_loss: 9.9833e-05 - val_mean_squared_error: 9.9833e-05\n",
      "Epoch 59/100\n",
      "1008/1008 [==============================] - 4s 4ms/step - loss: 1.1253e-04 - mean_squared_error: 1.1253e-04 - val_loss: 1.1467e-04 - val_mean_squared_error: 1.1467e-04\n",
      "Epoch 60/100\n",
      "1008/1008 [==============================] - 4s 4ms/step - loss: 1.1231e-04 - mean_squared_error: 1.1231e-04 - val_loss: 1.5624e-04 - val_mean_squared_error: 1.5624e-04\n",
      "Epoch 61/100\n",
      "1008/1008 [==============================] - 4s 4ms/step - loss: 1.1495e-04 - mean_squared_error: 1.1495e-04 - val_loss: 9.8730e-05 - val_mean_squared_error: 9.8730e-05\n",
      "Epoch 62/100\n",
      "1008/1008 [==============================] - 5s 5ms/step - loss: 1.1093e-04 - mean_squared_error: 1.1093e-04 - val_loss: 1.0269e-04 - val_mean_squared_error: 1.0269e-04\n",
      "Epoch 63/100\n",
      "1008/1008 [==============================] - 4s 4ms/step - loss: 1.1234e-04 - mean_squared_error: 1.1234e-04 - val_loss: 1.4800e-04 - val_mean_squared_error: 1.4800e-04\n",
      "Epoch 64/100\n",
      "1008/1008 [==============================] - 4s 4ms/step - loss: 1.1244e-04 - mean_squared_error: 1.1244e-04 - val_loss: 1.0217e-04 - val_mean_squared_error: 1.0217e-04\n",
      "Epoch 65/100\n",
      "1008/1008 [==============================] - 4s 4ms/step - loss: 1.1062e-04 - mean_squared_error: 1.1062e-04 - val_loss: 9.8498e-05 - val_mean_squared_error: 9.8498e-05\n",
      "Epoch 66/100\n",
      "1008/1008 [==============================] - 5s 4ms/step - loss: 1.1330e-04 - mean_squared_error: 1.1330e-04 - val_loss: 1.2714e-04 - val_mean_squared_error: 1.2714e-04\n",
      "Epoch 67/100\n",
      "1008/1008 [==============================] - 4s 4ms/step - loss: 1.1206e-04 - mean_squared_error: 1.1206e-04 - val_loss: 9.8271e-05 - val_mean_squared_error: 9.8271e-05\n",
      "Epoch 68/100\n",
      "1008/1008 [==============================] - 4s 4ms/step - loss: 1.0951e-04 - mean_squared_error: 1.0951e-04 - val_loss: 1.0601e-04 - val_mean_squared_error: 1.0601e-04\n",
      "Epoch 69/100\n",
      "1008/1008 [==============================] - 6s 6ms/step - loss: 1.1012e-04 - mean_squared_error: 1.1012e-04 - val_loss: 9.9269e-05 - val_mean_squared_error: 9.9269e-05\n",
      "Epoch 70/100\n",
      "1008/1008 [==============================] - 6s 6ms/step - loss: 1.1211e-04 - mean_squared_error: 1.1211e-04 - val_loss: 1.2020e-04 - val_mean_squared_error: 1.2020e-04\n",
      "Epoch 71/100\n",
      "1008/1008 [==============================] - 4s 4ms/step - loss: 1.1104e-04 - mean_squared_error: 1.1104e-04 - val_loss: 1.0403e-04 - val_mean_squared_error: 1.0403e-04\n",
      "Epoch 72/100\n",
      "1008/1008 [==============================] - 4s 4ms/step - loss: 1.0989e-04 - mean_squared_error: 1.0989e-04 - val_loss: 1.0538e-04 - val_mean_squared_error: 1.0538e-04\n",
      "Epoch 73/100\n",
      "1008/1008 [==============================] - 5s 5ms/step - loss: 1.1232e-04 - mean_squared_error: 1.1232e-04 - val_loss: 1.1068e-04 - val_mean_squared_error: 1.1068e-04\n",
      "Epoch 74/100\n",
      "1008/1008 [==============================] - 5s 5ms/step - loss: 1.0964e-04 - mean_squared_error: 1.0964e-04 - val_loss: 9.7779e-05 - val_mean_squared_error: 9.7779e-05\n",
      "Epoch 75/100\n",
      "1008/1008 [==============================] - 5s 5ms/step - loss: 1.1247e-04 - mean_squared_error: 1.1247e-04 - val_loss: 1.8732e-04 - val_mean_squared_error: 1.8732e-04\n",
      "Epoch 76/100\n",
      "1008/1008 [==============================] - 4s 4ms/step - loss: 1.1215e-04 - mean_squared_error: 1.1215e-04 - val_loss: 1.1580e-04 - val_mean_squared_error: 1.1580e-04\n",
      "Epoch 77/100\n",
      "1008/1008 [==============================] - 6s 6ms/step - loss: 1.0855e-04 - mean_squared_error: 1.0855e-04 - val_loss: 1.0599e-04 - val_mean_squared_error: 1.0599e-04\n",
      "Epoch 78/100\n",
      "1008/1008 [==============================] - 4s 4ms/step - loss: 1.1108e-04 - mean_squared_error: 1.1108e-04 - val_loss: 1.2540e-04 - val_mean_squared_error: 1.2540e-04\n",
      "Epoch 79/100\n",
      "1008/1008 [==============================] - 5s 5ms/step - loss: 1.1098e-04 - mean_squared_error: 1.1098e-04 - val_loss: 1.3953e-04 - val_mean_squared_error: 1.3953e-04\n",
      "Epoch 80/100\n",
      "1008/1008 [==============================] - 4s 4ms/step - loss: 1.0883e-04 - mean_squared_error: 1.0883e-04 - val_loss: 1.2469e-04 - val_mean_squared_error: 1.2469e-04\n",
      "Epoch 81/100\n",
      "1008/1008 [==============================] - 5s 5ms/step - loss: 1.0726e-04 - mean_squared_error: 1.0726e-04 - val_loss: 1.1230e-04 - val_mean_squared_error: 1.1230e-04\n",
      "Epoch 82/100\n",
      "1008/1008 [==============================] - 4s 4ms/step - loss: 1.1366e-04 - mean_squared_error: 1.1366e-04 - val_loss: 1.0889e-04 - val_mean_squared_error: 1.0889e-04\n",
      "Epoch 83/100\n",
      "1008/1008 [==============================] - 4s 4ms/step - loss: 1.0853e-04 - mean_squared_error: 1.0853e-04 - val_loss: 1.0601e-04 - val_mean_squared_error: 1.0601e-04\n",
      "Epoch 84/100\n",
      "1008/1008 [==============================] - 6s 6ms/step - loss: 1.1057e-04 - mean_squared_error: 1.1057e-04 - val_loss: 2.1967e-04 - val_mean_squared_error: 2.1967e-04\n",
      "Epoch 85/100\n",
      "1008/1008 [==============================] - 4s 4ms/step - loss: 1.1029e-04 - mean_squared_error: 1.1029e-04 - val_loss: 1.1454e-04 - val_mean_squared_error: 1.1454e-04\n",
      "Epoch 86/100\n",
      "1008/1008 [==============================] - 4s 4ms/step - loss: 1.0959e-04 - mean_squared_error: 1.0959e-04 - val_loss: 9.5110e-05 - val_mean_squared_error: 9.5110e-05\n",
      "Epoch 87/100\n",
      "1008/1008 [==============================] - 4s 4ms/step - loss: 1.0828e-04 - mean_squared_error: 1.0828e-04 - val_loss: 9.5707e-05 - val_mean_squared_error: 9.5707e-05\n",
      "Epoch 88/100\n",
      "1008/1008 [==============================] - 4s 4ms/step - loss: 1.1134e-04 - mean_squared_error: 1.1134e-04 - val_loss: 1.4737e-04 - val_mean_squared_error: 1.4737e-04\n",
      "Epoch 89/100\n",
      "1008/1008 [==============================] - 5s 5ms/step - loss: 1.0770e-04 - mean_squared_error: 1.0770e-04 - val_loss: 1.8937e-04 - val_mean_squared_error: 1.8937e-04\n",
      "Epoch 90/100\n",
      "1008/1008 [==============================] - 4s 4ms/step - loss: 1.1153e-04 - mean_squared_error: 1.1153e-04 - val_loss: 1.0193e-04 - val_mean_squared_error: 1.0193e-04\n",
      "Epoch 91/100\n"
     ]
    },
    {
     "name": "stdout",
     "output_type": "stream",
     "text": [
      "1008/1008 [==============================] - 5s 5ms/step - loss: 1.0840e-04 - mean_squared_error: 1.0840e-04 - val_loss: 1.3429e-04 - val_mean_squared_error: 1.3429e-04\n",
      "Epoch 92/100\n",
      "1008/1008 [==============================] - 4s 4ms/step - loss: 1.0867e-04 - mean_squared_error: 1.0867e-04 - val_loss: 1.0260e-04 - val_mean_squared_error: 1.0260e-04\n",
      "Epoch 93/100\n",
      "1008/1008 [==============================] - 4s 4ms/step - loss: 1.1158e-04 - mean_squared_error: 1.1158e-04 - val_loss: 9.7270e-05 - val_mean_squared_error: 9.7270e-05\n",
      "Epoch 94/100\n",
      "1008/1008 [==============================] - 6s 5ms/step - loss: 1.0653e-04 - mean_squared_error: 1.0653e-04 - val_loss: 9.8466e-05 - val_mean_squared_error: 9.8466e-05\n",
      "Epoch 95/100\n",
      "1008/1008 [==============================] - 5s 5ms/step - loss: 1.0748e-04 - mean_squared_error: 1.0748e-04 - val_loss: 1.3697e-04 - val_mean_squared_error: 1.3697e-04\n",
      "Epoch 96/100\n",
      "1008/1008 [==============================] - 5s 5ms/step - loss: 1.0782e-04 - mean_squared_error: 1.0782e-04 - val_loss: 1.1626e-04 - val_mean_squared_error: 1.1626e-04\n",
      "Epoch 97/100\n",
      "1008/1008 [==============================] - 4s 4ms/step - loss: 1.0879e-04 - mean_squared_error: 1.0879e-04 - val_loss: 1.2049e-04 - val_mean_squared_error: 1.2049e-04\n",
      "Epoch 98/100\n",
      "1008/1008 [==============================] - 5s 5ms/step - loss: 1.1168e-04 - mean_squared_error: 1.1168e-04 - val_loss: 1.0000e-04 - val_mean_squared_error: 1.0000e-04\n",
      "Epoch 99/100\n",
      "1008/1008 [==============================] - 4s 4ms/step - loss: 1.0768e-04 - mean_squared_error: 1.0768e-04 - val_loss: 1.2043e-04 - val_mean_squared_error: 1.2043e-04\n",
      "Epoch 100/100\n",
      "1008/1008 [==============================] - 4s 4ms/step - loss: 1.0832e-04 - mean_squared_error: 1.0832e-04 - val_loss: 1.0167e-04 - val_mean_squared_error: 1.0167e-04\n"
     ]
    }
   ],
   "source": [
    "history = model.fit(X,Y, validation_split=0.33, epochs =100, batch_size=10)"
   ]
  },
  {
   "cell_type": "markdown",
   "id": "8be0b17e",
   "metadata": {},
   "source": [
    "#### 3.4 Evaluate the model"
   ]
  },
  {
   "cell_type": "code",
   "execution_count": 22,
   "id": "37f1c945",
   "metadata": {},
   "outputs": [
    {
     "name": "stdout",
     "output_type": "stream",
     "text": [
      "470/470 [==============================] - 1s 2ms/step - loss: 9.7984e-05 - mean_squared_error: 9.7984e-05\n",
      "mean_squared_error: 0.01%\n"
     ]
    }
   ],
   "source": [
    "scores = model.evaluate(X,Y)\n",
    "print('%s: %.2f%%' % (model.metrics_names[1], scores[1]*100))"
   ]
  },
  {
   "cell_type": "markdown",
   "id": "27c8bc85",
   "metadata": {},
   "source": [
    "### 4. Tuning of Hyperparameter -->  Batch size and epochs"
   ]
  },
  {
   "cell_type": "code",
   "execution_count": 25,
   "id": "91c31e83",
   "metadata": {},
   "outputs": [],
   "source": [
    "# Create model\n",
    "\n",
    "def create_model():\n",
    "    model = Sequential()\n",
    "    model.add(Dense(12, input_dim= 10, kernel_initializer= 'uniform', activation= 'relu'))\n",
    "    model.add(Dense(8, kernel_initializer= 'uniform', activation= 'relu'))\n",
    "    model.add(Dense(1, kernel_initializer= 'uniform', activation='relu'))  # This last layer should be changed to 'relu' as sigmoid is used for classification problems.\n",
    "    \n",
    "    adam = Adam(lr =0.01)\n",
    "    \n",
    "    model.compile(loss= 'mse', optimizer= adam, metrics= [keras.metrics.MeanSquaredError()])  # metrics= ['accuracy'] changed to [keras.metrics.MeanSquaredError()] as the Y variable is continuous datatype.\n",
    "    return model"
   ]
  },
  {
   "cell_type": "code",
   "execution_count": 28,
   "id": "f25a751c",
   "metadata": {},
   "outputs": [
    {
     "name": "stdout",
     "output_type": "stream",
     "text": [
      "Fitting 5 folds for each of 9 candidates, totalling 45 fits\n",
      "[CV 1/5; 1/9] START batch_size=10, epochs=10....................................\n",
      "[CV 1/5; 1/9] END ....batch_size=10, epochs=10;, score=-0.291 total time=  36.0s\n",
      "[CV 2/5; 1/9] START batch_size=10, epochs=10....................................\n",
      "[CV 2/5; 1/9] END ....batch_size=10, epochs=10;, score=-0.000 total time=  39.6s\n",
      "[CV 3/5; 1/9] START batch_size=10, epochs=10....................................\n",
      "[CV 3/5; 1/9] END ....batch_size=10, epochs=10;, score=-0.317 total time=  39.4s\n",
      "[CV 4/5; 1/9] START batch_size=10, epochs=10....................................\n",
      "[CV 4/5; 1/9] END ....batch_size=10, epochs=10;, score=-0.000 total time=  39.9s\n",
      "[CV 5/5; 1/9] START batch_size=10, epochs=10....................................\n",
      "[CV 5/5; 1/9] END ....batch_size=10, epochs=10;, score=-0.000 total time=  39.5s\n",
      "[CV 1/5; 2/9] START batch_size=10, epochs=50....................................\n",
      "[CV 1/5; 2/9] END ....batch_size=10, epochs=50;, score=-0.291 total time= 3.1min\n",
      "[CV 2/5; 2/9] START batch_size=10, epochs=50....................................\n",
      "[CV 2/5; 2/9] END ....batch_size=10, epochs=50;, score=-0.000 total time= 2.2min\n",
      "[CV 3/5; 2/9] START batch_size=10, epochs=50....................................\n",
      "[CV 3/5; 2/9] END ....batch_size=10, epochs=50;, score=-0.000 total time=  37.1s\n",
      "[CV 4/5; 2/9] START batch_size=10, epochs=50....................................\n",
      "[CV 4/5; 2/9] END ....batch_size=10, epochs=50;, score=-0.000 total time=  39.0s\n",
      "[CV 5/5; 2/9] START batch_size=10, epochs=50....................................\n",
      "[CV 5/5; 2/9] END ....batch_size=10, epochs=50;, score=-0.000 total time=  40.1s\n",
      "[CV 1/5; 3/9] START batch_size=10, epochs=100...................................\n",
      "[CV 1/5; 3/9] END ...batch_size=10, epochs=100;, score=-0.000 total time= 1.4min\n",
      "[CV 2/5; 3/9] START batch_size=10, epochs=100...................................\n",
      "[CV 2/5; 3/9] END ...batch_size=10, epochs=100;, score=-0.000 total time= 1.4min\n",
      "[CV 3/5; 3/9] START batch_size=10, epochs=100...................................\n",
      "[CV 3/5; 3/9] END ...batch_size=10, epochs=100;, score=-0.000 total time= 1.4min\n",
      "[CV 4/5; 3/9] START batch_size=10, epochs=100...................................\n",
      "[CV 4/5; 3/9] END ...batch_size=10, epochs=100;, score=-0.000 total time= 1.4min\n",
      "[CV 5/5; 3/9] START batch_size=10, epochs=100...................................\n",
      "[CV 5/5; 3/9] END ...batch_size=10, epochs=100;, score=-0.221 total time= 1.5min\n",
      "[CV 1/5; 4/9] START batch_size=20, epochs=10....................................\n",
      "[CV 1/5; 4/9] END ....batch_size=20, epochs=10;, score=-0.000 total time=   5.0s\n",
      "[CV 2/5; 4/9] START batch_size=20, epochs=10....................................\n",
      "[CV 2/5; 4/9] END ....batch_size=20, epochs=10;, score=-0.000 total time=   7.0s\n",
      "[CV 3/5; 4/9] START batch_size=20, epochs=10....................................\n",
      "[CV 3/5; 4/9] END ....batch_size=20, epochs=10;, score=-0.000 total time=   5.6s\n",
      "[CV 4/5; 4/9] START batch_size=20, epochs=10....................................\n",
      "[CV 4/5; 4/9] END ....batch_size=20, epochs=10;, score=-0.000 total time=   5.4s\n",
      "[CV 5/5; 4/9] START batch_size=20, epochs=10....................................\n",
      "[CV 5/5; 4/9] END ....batch_size=20, epochs=10;, score=-0.000 total time=   5.2s\n",
      "[CV 1/5; 5/9] START batch_size=20, epochs=50....................................\n",
      "[CV 1/5; 5/9] END ....batch_size=20, epochs=50;, score=-0.291 total time=  23.2s\n",
      "[CV 2/5; 5/9] START batch_size=20, epochs=50....................................\n",
      "[CV 2/5; 5/9] END ....batch_size=20, epochs=50;, score=-0.178 total time=  24.4s\n",
      "[CV 3/5; 5/9] START batch_size=20, epochs=50....................................\n",
      "[CV 3/5; 5/9] END ....batch_size=20, epochs=50;, score=-0.000 total time=  23.7s\n",
      "[CV 4/5; 5/9] START batch_size=20, epochs=50....................................\n",
      "[CV 4/5; 5/9] END ....batch_size=20, epochs=50;, score=-0.000 total time=  26.3s\n",
      "[CV 5/5; 5/9] START batch_size=20, epochs=50....................................\n",
      "[CV 5/5; 5/9] END ....batch_size=20, epochs=50;, score=-0.000 total time=  24.5s\n",
      "[CV 1/5; 6/9] START batch_size=20, epochs=100...................................\n",
      "[CV 1/5; 6/9] END ...batch_size=20, epochs=100;, score=-0.000 total time=  48.5s\n",
      "[CV 2/5; 6/9] START batch_size=20, epochs=100...................................\n",
      "[CV 2/5; 6/9] END ...batch_size=20, epochs=100;, score=-0.178 total time=  48.5s\n",
      "[CV 3/5; 6/9] START batch_size=20, epochs=100...................................\n",
      "[CV 3/5; 6/9] END ...batch_size=20, epochs=100;, score=-0.317 total time=  45.8s\n",
      "[CV 4/5; 6/9] START batch_size=20, epochs=100...................................\n",
      "[CV 4/5; 6/9] END ...batch_size=20, epochs=100;, score=-0.000 total time=  46.2s\n",
      "[CV 5/5; 6/9] START batch_size=20, epochs=100...................................\n",
      "[CV 5/5; 6/9] END ...batch_size=20, epochs=100;, score=-0.221 total time=  45.8s\n",
      "[CV 1/5; 7/9] START batch_size=40, epochs=10....................................\n",
      "[CV 1/5; 7/9] END ....batch_size=40, epochs=10;, score=-0.000 total time=   2.9s\n",
      "[CV 2/5; 7/9] START batch_size=40, epochs=10....................................\n",
      "[CV 2/5; 7/9] END ....batch_size=40, epochs=10;, score=-0.000 total time=   2.7s\n",
      "[CV 3/5; 7/9] START batch_size=40, epochs=10....................................\n",
      "[CV 3/5; 7/9] END ....batch_size=40, epochs=10;, score=-0.000 total time=   2.7s\n",
      "[CV 4/5; 7/9] START batch_size=40, epochs=10....................................\n",
      "[CV 4/5; 7/9] END ....batch_size=40, epochs=10;, score=-0.000 total time=   2.6s\n",
      "[CV 5/5; 7/9] START batch_size=40, epochs=10....................................\n",
      "[CV 5/5; 7/9] END ....batch_size=40, epochs=10;, score=-0.000 total time=   2.6s\n",
      "[CV 1/5; 8/9] START batch_size=40, epochs=50....................................\n",
      "[CV 1/5; 8/9] END ....batch_size=40, epochs=50;, score=-0.000 total time=  11.6s\n",
      "[CV 2/5; 8/9] START batch_size=40, epochs=50....................................\n",
      "[CV 2/5; 8/9] END ....batch_size=40, epochs=50;, score=-0.000 total time=  11.8s\n",
      "[CV 3/5; 8/9] START batch_size=40, epochs=50....................................\n",
      "[CV 3/5; 8/9] END ....batch_size=40, epochs=50;, score=-0.000 total time=  12.0s\n",
      "[CV 4/5; 8/9] START batch_size=40, epochs=50....................................\n",
      "[CV 4/5; 8/9] END ....batch_size=40, epochs=50;, score=-0.000 total time=  11.8s\n",
      "[CV 5/5; 8/9] START batch_size=40, epochs=50....................................\n",
      "[CV 5/5; 8/9] END ....batch_size=40, epochs=50;, score=-0.000 total time=  11.5s\n",
      "[CV 1/5; 9/9] START batch_size=40, epochs=100...................................\n",
      "[CV 1/5; 9/9] END ...batch_size=40, epochs=100;, score=-0.000 total time=  22.2s\n",
      "[CV 2/5; 9/9] START batch_size=40, epochs=100...................................\n",
      "[CV 2/5; 9/9] END ...batch_size=40, epochs=100;, score=-0.000 total time=  22.2s\n",
      "[CV 3/5; 9/9] START batch_size=40, epochs=100...................................\n",
      "[CV 3/5; 9/9] END ...batch_size=40, epochs=100;, score=-0.000 total time=  22.1s\n",
      "[CV 4/5; 9/9] START batch_size=40, epochs=100...................................\n",
      "[CV 4/5; 9/9] END ...batch_size=40, epochs=100;, score=-0.264 total time=  22.4s\n",
      "[CV 5/5; 9/9] START batch_size=40, epochs=100...................................\n",
      "[CV 5/5; 9/9] END ...batch_size=40, epochs=100;, score=-0.000 total time=  23.0s\n"
     ]
    }
   ],
   "source": [
    "# Create the model\n",
    "model= KerasRegressor(build_fn = create_model, verbose = 0)   # the Y variable is a continuous data type where you've to apply the keras regressor model to it\n",
    "\n",
    "# Define the grid search parameters\n",
    "batch_size = [10,20,40]\n",
    "epochs = [10,50,100]\n",
    "\n",
    "# Make a dicitionary of the grid search parameters\n",
    "param_grid = dict(batch_size = batch_size, epochs = epochs)\n",
    "\n",
    "# Build and fit the GridSearchCV\n",
    "grid = GridSearchCV(estimator = model, param_grid = param_grid, cv = KFold(), verbose = 10)\n",
    "grid_result = grid.fit(X,Y)"
   ]
  },
  {
   "cell_type": "code",
   "execution_count": 29,
   "id": "3713c3e3",
   "metadata": {},
   "outputs": [
    {
     "name": "stdout",
     "output_type": "stream",
     "text": [
      "Best :-0.00016972345183603467, using {'batch_size': 40, 'epochs': 50}\n",
      "-0.12166755037615076,0.14889059076469816 with:{'batch_size': 10, 'epochs': 10}\n",
      "-0.058252452273154634,0.11625270931913145 with:{'batch_size': 10, 'epochs': 50}\n",
      "-0.044477277087571564,0.08846842246298527 with:{'batch_size': 10, 'epochs': 100}\n",
      "-0.00021172182314330713,7.99714085898622e-05 with:{'batch_size': 20, 'epochs': 10}\n",
      "-0.09377177225978812,0.12014110789811996 with:{'batch_size': 20, 'epochs': 50}\n",
      "-0.14322058152174577,0.12519999525167044 with:{'batch_size': 20, 'epochs': 100}\n",
      "-0.00017221661983057857,2.661898904301438e-05 with:{'batch_size': 40, 'epochs': 10}\n",
      "-0.00016972345183603467,0.00012745538304559487 with:{'batch_size': 40, 'epochs': 50}\n",
      "-0.05280520381056704,0.10541399600006886 with:{'batch_size': 40, 'epochs': 100}\n"
     ]
    }
   ],
   "source": [
    "# Summarize the results\n",
    "\n",
    "print('Best :{}, using {}'. format(grid_result.best_score_, grid_result.best_params_))\n",
    "means = grid_result.cv_results_['mean_test_score']\n",
    "stds = grid_result.cv_results_['std_test_score']\n",
    "params = grid_result.cv_results_['params']\n",
    "for mean, stdev, param in zip(means, stds, params):\n",
    "    print('{},{} with:{}'. format(mean, stdev, param))"
   ]
  }
 ],
 "metadata": {
  "kernelspec": {
   "display_name": "Python 3 (ipykernel)",
   "language": "python",
   "name": "python3"
  },
  "language_info": {
   "codemirror_mode": {
    "name": "ipython",
    "version": 3
   },
   "file_extension": ".py",
   "mimetype": "text/x-python",
   "name": "python",
   "nbconvert_exporter": "python",
   "pygments_lexer": "ipython3",
   "version": "3.9.7"
  }
 },
 "nbformat": 4,
 "nbformat_minor": 5
}
